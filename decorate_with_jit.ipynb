{
 "cells": [
  {
   "cell_type": "markdown",
   "metadata": {},
   "source": [
    "# 给所有函数修饰\n",
    "\n",
    "Numba是一个python的加速器, 最简单的加速方式仅仅是在导入numba以后, 在函数定义之前增加@jit. \n",
    "\n",
    "本程序是为了测试简单增加或者消除所有函数前@jit"
   ]
  },
  {
   "cell_type": "code",
   "execution_count": null,
   "metadata": {
    "ExecuteTime": {
     "end_time": "2017-11-24T11:48:49.962592Z",
     "start_time": "2017-11-24T11:48:49.955831Z"
    },
    "collapsed": true
   },
   "outputs": [],
   "source": [
    "import os, sys\n",
    "import glob\n",
    "import re"
   ]
  },
  {
   "cell_type": "markdown",
   "metadata": {},
   "source": [
    "# 打开文件"
   ]
  },
  {
   "cell_type": "code",
   "execution_count": null,
   "metadata": {
    "ExecuteTime": {
     "end_time": "2017-11-24T11:48:49.971169Z",
     "start_time": "2017-11-24T11:48:49.965091Z"
    },
    "scrolled": true
   },
   "outputs": [],
   "source": [
    "def get_file_content(input_filename):\n",
    "    _,ext=os.path.splitext(input_filename)\n",
    "    with open(input_filename,'rt') as f_input:\n",
    "        f_content=f_input.read()\n",
    "    return ext,f_content"
   ]
  },
  {
   "cell_type": "markdown",
   "metadata": {},
   "source": [
    "# 依照模式增加或移除\n",
    "使用了正则表达式```'(\\n)(\\s*)(def)'```, 因为不能确定def之前的缩进有多少, 只知道肯定之前是由换行的. (当然也有可能什么也不导入, 直接就定义函数的py程序, 但那样也太罕见了了吧)\n",
    "\n",
    "正则表达式还不熟练, 不知道```r'(\\n)(\\s*)(def)'```找到以后如何用group来拆分. 所以干脆取巧, 反正中间的缩进部分是要重复两遍的, 不妨就先把整体重复两遍, 然后再替换掉其中一个\n"
   ]
  },
  {
   "cell_type": "code",
   "execution_count": null,
   "metadata": {
    "ExecuteTime": {
     "end_time": "2017-11-24T11:48:49.991231Z",
     "start_time": "2017-11-24T11:48:49.974142Z"
    }
   },
   "outputs": [],
   "source": [
    "def add_pattern(text,prefix,target_word,add_string):\n",
    "    target_pattern=re.compile(prefix+target_word)    \n",
    "    def add_core(m):\n",
    "        s=m.group()\n",
    "        new=s+'\\n'+s\n",
    "        return (re.sub(target_word+'\\n',add_string,new))\n",
    "    return (target_pattern.sub(add_core,text))\n",
    "\n",
    "def remove_pattern(text,prefix,target_word):\n",
    "    target_pattern=re.compile(prefix+target_word)\n",
    "    def remove_core(m):\n",
    "        s=m.group()\n",
    "        return \"\"\n",
    "    return (target_pattern.sub(remove_core,text))\n",
    "\n"
   ]
  },
  {
   "cell_type": "markdown",
   "metadata": {},
   "source": [
    "# 增加/去除@jit\n",
    "\n",
    "* add_jit: 在每一个def之前添加@git\n",
    "* remove_jit: 将每个单行的@jit去除"
   ]
  },
  {
   "cell_type": "code",
   "execution_count": null,
   "metadata": {
    "ExecuteTime": {
     "end_time": "2017-11-24T11:48:50.044949Z",
     "start_time": "2017-11-24T11:48:49.993925Z"
    }
   },
   "outputs": [],
   "source": [
    "def add_jit(text,ext):\n",
    "    if ext=='.py':\n",
    "        prefix='(\\n)(\\s*)'\n",
    "        add_numba='from numba import jit'\n",
    "        add_numba_jit='@jit'\n",
    "    elif ext=='.ipynb':\n",
    "        prefix='(\\n)(\\s*)(\\\")(\\s*)'\n",
    "        add_numba='from numba import jit\", '\n",
    "        add_numba_jit='@jit\", '\n",
    "        \n",
    "    text = add_pattern(text,prefix,'import numpy as np',add_numba)\n",
    "    text = add_pattern(text,prefix,'def',add_numba_jit)\n",
    "    text = text.replace('jit\"','jit\\\\n\"') #此处用re.sub总是会把\\n给翻译掉, 试过多种方式\n",
    "    return text\n",
    "\n",
    "def remove_jit(text,ext):\n",
    "    if ext=='.py':\n",
    "        prefix='(\\n)(\\s*)'\n",
    "        add_numba='from numba import jit'\n",
    "        add_numba_jit='@jit'\n",
    "    elif ext=='.ipynb':\n",
    "        prefix='(\\s*)'\n",
    "        add_numba='from numba import jit'\n",
    "        add_numba_jit='@jit'\n",
    "\n",
    "    text = remove_pattern(text,prefix,add_numba)\n",
    "    text = remove_pattern(text,prefix,add_numba_jit)\n",
    "    return text\n",
    "\n",
    "# jit_added  =add_jit(f_content)\n",
    "# jit_removed=remove_jit(f_content)\n"
   ]
  },
  {
   "cell_type": "markdown",
   "metadata": {},
   "source": [
    "# 写入文件"
   ]
  },
  {
   "cell_type": "code",
   "execution_count": null,
   "metadata": {
    "ExecuteTime": {
     "end_time": "2017-11-24T11:48:50.054236Z",
     "start_time": "2017-11-24T11:48:50.047561Z"
    }
   },
   "outputs": [],
   "source": [
    "def write_content(output_filename,f_content):\n",
    "    with open(output_filename,'wt') as f_output:\n",
    "        f_output.write(f_content)\n",
    "    return True"
   ]
  },
  {
   "cell_type": "markdown",
   "metadata": {},
   "source": [
    "# 整合包装"
   ]
  },
  {
   "cell_type": "code",
   "execution_count": null,
   "metadata": {
    "ExecuteTime": {
     "end_time": "2017-11-24T11:50:34.765931Z",
     "start_time": "2017-11-24T11:50:34.754206Z"
    },
    "collapsed": true
   },
   "outputs": [],
   "source": [
    "def decorate_with_jit(input_filename,output_filename,marker):\n",
    "    ext,f_content=get_file_content(input_filename)\n",
    "    if marker=='--a':\n",
    "        f_content = add_jit(f_content, ext)\n",
    "    elif marker=='--r':\n",
    "        f_content = remove_jit(f_content,ext)   \n",
    "    write_content(output_filename,f_content)\n",
    "    print(\"{}\\t->\\t{}\".format(input_filename, output_filename))\n"
   ]
  },
  {
   "cell_type": "markdown",
   "metadata": {},
   "source": [
    "# 参数调用"
   ]
  },
  {
   "cell_type": "code",
   "execution_count": null,
   "metadata": {
    "ExecuteTime": {
     "end_time": "2017-11-24T11:54:15.164401Z",
     "start_time": "2017-11-24T11:54:15.038079Z"
    },
    "scrolled": true
   },
   "outputs": [],
   "source": [
    "if __name__==\"__main__\":\n",
    "    # input_filename='add_new_JIT.ipynb'\n",
    "    # output_filename='remove_new_JIT.ipynb'\n",
    "    marker=sys.argv[1]\n",
    "    input_filename=sys.argv[2]\n",
    "    parameters={\"allpy\":\"*.py\",\n",
    "                \"allipynb\":\"*.ipynb\"\n",
    "               }\n",
    "    if input_filename==\"allpy\" or input_filename==\"allipynb\":\n",
    "        input_filelist=glob.glob(parameters[input_filename])\n",
    "        output_path=sys.argv[3]\n",
    "        os.mkdir(output_path)\n",
    "        output_filelist=[os.path.join(output_path,f) for f in input_filelist]\n",
    "        for (i,o) in zip(input_filelist,output_filelist):\n",
    "            decorate_with_jit(i,o,marker)\n",
    "    else:\n",
    "        output_filename=list(sys.argv[3])\n",
    "        decorate_with_jit(input_filename,output_filename,marker)"
   ]
  }
 ],
 "metadata": {
  "kernelspec": {
   "display_name": "Python 3",
   "language": "python",
   "name": "python3"
  },
  "language_info": {
   "codemirror_mode": {
    "name": "ipython",
    "version": 3
   },
   "file_extension": ".py",
   "mimetype": "text/x-python",
   "name": "python",
   "nbconvert_exporter": "python",
   "pygments_lexer": "ipython3",
   "version": "3.5.2"
  },
  "toc": {
   "colors": {
    "hover_highlight": "#DAA520",
    "navigate_num": "#000000",
    "navigate_text": "#333333",
    "running_highlight": "#FF0000",
    "selected_highlight": "#FFD700",
    "sidebar_border": "#EEEEEE",
    "wrapper_background": "#FFFFFF"
   },
   "moveMenuLeft": true,
   "nav_menu": {
    "height": "158px",
    "width": "254px"
   },
   "navigate_menu": true,
   "number_sections": true,
   "sideBar": true,
   "threshold": 4,
   "toc_cell": false,
   "toc_section_display": "block",
   "toc_window_display": false,
   "widenNotebook": false
  }
 },
 "nbformat": 4,
 "nbformat_minor": 2
}
